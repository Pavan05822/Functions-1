{
 "cells": [
  {
   "cell_type": "code",
   "execution_count": 7,
   "id": "694527bf-9efd-4bf0-9d1e-b61e76e0116c",
   "metadata": {},
   "outputs": [
    {
     "name": "stdin",
     "output_type": "stream",
     "text": [
      "enter the money: 100\n",
      "enter the money: 200\n"
     ]
    },
    {
     "name": "stdout",
     "output_type": "stream",
     "text": [
      "total money: 300\n"
     ]
    }
   ],
   "source": [
    "def add(student1,student2):\n",
    "    return student1 + student2\n",
    "student1=int(input(\"enter the money:\"))\n",
    "student2=int(input(\"enter the money:\"))\n",
    "total=add(student1,student2)\n",
    "print(\"total money:\",total)\n"
   ]
  },
  {
   "cell_type": "code",
   "execution_count": 9,
   "id": "258f8c92-66d9-4ee3-94f3-0abdb82c3329",
   "metadata": {},
   "outputs": [
    {
     "name": "stdin",
     "output_type": "stream",
     "text": [
      "enter the money: 100\n",
      "enter the money: 500\n"
     ]
    },
    {
     "name": "stdout",
     "output_type": "stream",
     "text": [
      "total money: 600\n"
     ]
    }
   ],
   "source": [
    "def add(student1,student2):\n",
    "   print(\"total money:\",student1 + student2)\n",
    "student1=int(input(\"enter the money:\"))\n",
    "student2=int(input(\"enter the money:\"))\n",
    "add(student1,student2)\n",
    "\n"
   ]
  },
  {
   "cell_type": "code",
   "execution_count": 5,
   "id": "96784166-ec0a-4a12-a940-724700435071",
   "metadata": {},
   "outputs": [
    {
     "name": "stdin",
     "output_type": "stream",
     "text": [
      "enter your name: pavan\n"
     ]
    },
    {
     "name": "stdout",
     "output_type": "stream",
     "text": [
      "welcome pavan\n"
     ]
    }
   ],
   "source": [
    "def name():\n",
    "    name=input(\"enter your name:\")\n",
    "    return name\n",
    "username= name()\n",
    "print(\"welcome\",username)"
   ]
  },
  {
   "cell_type": "code",
   "execution_count": 23,
   "id": "dd9d9dca-01b0-44d8-9f52-117caca7608b",
   "metadata": {},
   "outputs": [
    {
     "name": "stdout",
     "output_type": "stream",
     "text": [
      "120\n"
     ]
    }
   ],
   "source": [
    "a=100\n",
    "def value(a):\n",
    "    return a+20\n",
    "op=value(a)\n",
    "print(op)"
   ]
  },
  {
   "cell_type": "code",
   "execution_count": 9,
   "id": "4e2fd47d-d2b9-4ac9-b768-61b5ea197c0e",
   "metadata": {},
   "outputs": [
    {
     "name": "stdout",
     "output_type": "stream",
     "text": [
      "name: Pavan\n",
      "age: 20\n",
      "name: jack\n",
      "age: 0\n",
      "name: unknown\n",
      "age: 25\n",
      "name: unknown\n",
      "age: 0\n"
     ]
    }
   ],
   "source": [
    "def info(name='unknown',age=0):\n",
    "    print(\"name:\",name)\n",
    "    print(\"age:\",age)\n",
    "info(\"Pavan\",20)\n",
    "info(\"jack\")\n",
    "info(age=25)\n",
    "info()"
   ]
  },
  {
   "cell_type": "code",
   "execution_count": 37,
   "id": "9bc4b29a-f9be-44cc-bd0c-45d2efc6e7ce",
   "metadata": {},
   "outputs": [
    {
     "name": "stdin",
     "output_type": "stream",
     "text": [
      "enter a value: 4\n",
      "enter a value: 2\n"
     ]
    },
    {
     "name": "stdout",
     "output_type": "stream",
     "text": [
      "addition 6\n",
      "subtraction 2\n",
      "multiplication 8\n",
      "division 2.0\n"
     ]
    }
   ],
   "source": [
    "def cal(a,b):\n",
    "    return a+b,a-b,a*b,a/b\n",
    "a=int(input(\"enter a value:\"))\n",
    "b=int(input(\"enter a value:\"))\n",
    "Sum,diff,pro,div=cal(a,b)\n",
    "print(\"addition\",Sum)\n",
    "print(\"subtraction\",diff)\n",
    "print(\"multiplication\",pro)\n",
    "print(\"division\",div)"
   ]
  },
  {
   "cell_type": "code",
   "execution_count": 45,
   "id": "7844a137-3f1e-416d-9c76-c4191ac851ea",
   "metadata": {},
   "outputs": [
    {
     "name": "stdin",
     "output_type": "stream",
     "text": [
      "enter a: 10\n",
      "enter b: 55\n",
      "enter c: 1\n"
     ]
    },
    {
     "name": "stdout",
     "output_type": "stream",
     "text": [
      "maximum: 55\n",
      "minimum: 1\n"
     ]
    }
   ],
   "source": [
    "def max_min(a,b,c):\n",
    "    return max(a,b,c),min(a,b,c)\n",
    "a=int(input(\"enter a:\"))\n",
    "b=int(input(\"enter b:\"))\n",
    "c=int(input(\"enter c:\"))\n",
    "maxi,mini=max_min(a,b,c)\n",
    "print(\"maximum:\",maxi)\n",
    "print(\"minimum:\",mini)"
   ]
  },
  {
   "cell_type": "code",
   "execution_count": 61,
   "id": "aa5faf19-b383-4fe4-bc36-cacfdc74ab1f",
   "metadata": {},
   "outputs": [
    {
     "name": "stdin",
     "output_type": "stream",
     "text": [
      "enter the numbers as space seperated: 1 2 3 4 5 6 7 8 9 10\n"
     ]
    },
    {
     "name": "stdout",
     "output_type": "stream",
     "text": [
      "Even count: 5\n",
      "odd count: 5\n"
     ]
    }
   ],
   "source": [
    "def eo(numbers):\n",
    "    e=0\n",
    "    o=0\n",
    "    for n in numbers:\n",
    "        if n%2==0:\n",
    "            e+=1\n",
    "        else:\n",
    "            o+=1\n",
    "    return e,o\n",
    "num=input(\"enter the numbers as space seperated:\")\n",
    "num_list=list(map(int,num.split()))\n",
    "e,o=eo(num_list)\n",
    "print(\"Even count:\",e)\n",
    "print(\"odd count:\",o)"
   ]
  },
  {
   "cell_type": "code",
   "execution_count": 15,
   "id": "da04fb00-9bde-4731-b42f-f87d55c72f29",
   "metadata": {},
   "outputs": [
    {
     "name": "stdout",
     "output_type": "stream",
     "text": [
      "value in tht function is: 3.14159\n"
     ]
    }
   ],
   "source": [
    "def value():\n",
    "    return 3.14159\n",
    "result=value()\n",
    "print(\"value in tht function is:\",result)"
   ]
  },
  {
   "cell_type": "code",
   "execution_count": 1,
   "id": "265a83f4-c0fe-437e-b01b-bf8337e5b51b",
   "metadata": {},
   "outputs": [
    {
     "name": "stdout",
     "output_type": "stream",
     "text": [
      "This is outer function....\n",
      "This is an inner function..\n"
     ]
    }
   ],
   "source": [
    "def outer():\n",
    "    print(\"This is outer function....\")\n",
    "    def inner():\n",
    "        print(\"This is an inner function..\")\n",
    "    inner()\n",
    "outer()"
   ]
  },
  {
   "cell_type": "code",
   "execution_count": null,
   "id": "76eecf55-40d9-4955-bc88-1af78a59d8cd",
   "metadata": {},
   "outputs": [],
   "source": []
  }
 ],
 "metadata": {
  "kernelspec": {
   "display_name": "Python 3 (ipykernel)",
   "language": "python",
   "name": "python3"
  },
  "language_info": {
   "codemirror_mode": {
    "name": "ipython",
    "version": 3
   },
   "file_extension": ".py",
   "mimetype": "text/x-python",
   "name": "python",
   "nbconvert_exporter": "python",
   "pygments_lexer": "ipython3",
   "version": "3.12.7"
  }
 },
 "nbformat": 4,
 "nbformat_minor": 5
}
